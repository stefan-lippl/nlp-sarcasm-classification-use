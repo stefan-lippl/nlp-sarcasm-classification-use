{
 "cells": [
  {
   "cell_type": "code",
   "execution_count": 10,
   "metadata": {},
   "outputs": [],
   "source": [
    "import json\n",
    "import numpy as np\n",
    "import pandas as pd\n",
    "import urllib\n",
    "\n",
    "import tensorflow as tf\n",
    "import tensorflow_hub as hub\n",
    "from tensorflow.keras.preprocessing.text import Tokenizer\n",
    "from tensorflow.keras.preprocessing.sequence import pad_sequences\n",
    "from tensorflow.keras.callbacks import EarlyStopping, ModelCheckpoint\n",
    "\n",
    "from sklearn.model_selection import train_test_split"
   ]
  },
  {
   "cell_type": "markdown",
   "metadata": {},
   "source": [
    "# 1. Download dataset and get insights"
   ]
  },
  {
   "cell_type": "code",
   "execution_count": 2,
   "metadata": {},
   "outputs": [
    {
     "data": {
      "text/plain": [
       "('sarcasm.json', <http.client.HTTPMessage at 0x7ff8bf262050>)"
      ]
     },
     "execution_count": 2,
     "metadata": {},
     "output_type": "execute_result"
    }
   ],
   "source": [
    "# Download dataset\n",
    "url = 'https://storage.googleapis.com/download.tensorflow.org/data/sarcasm.json'\n",
    "urllib.request.urlretrieve(url, 'sarcasm.json')"
   ]
  },
  {
   "cell_type": "code",
   "execution_count": 3,
   "metadata": {},
   "outputs": [],
   "source": [
    "df = pd.read_json('./archive/Sarcasm_Headlines_Dataset.json', lines=True)"
   ]
  },
  {
   "cell_type": "code",
   "execution_count": 4,
   "metadata": {},
   "outputs": [
    {
     "data": {
      "text/html": [
       "<div>\n",
       "<style scoped>\n",
       "    .dataframe tbody tr th:only-of-type {\n",
       "        vertical-align: middle;\n",
       "    }\n",
       "\n",
       "    .dataframe tbody tr th {\n",
       "        vertical-align: top;\n",
       "    }\n",
       "\n",
       "    .dataframe thead th {\n",
       "        text-align: right;\n",
       "    }\n",
       "</style>\n",
       "<table border=\"1\" class=\"dataframe\">\n",
       "  <thead>\n",
       "    <tr style=\"text-align: right;\">\n",
       "      <th></th>\n",
       "      <th>article_link</th>\n",
       "      <th>headline</th>\n",
       "      <th>is_sarcastic</th>\n",
       "    </tr>\n",
       "  </thead>\n",
       "  <tbody>\n",
       "    <tr>\n",
       "      <th>0</th>\n",
       "      <td>https://www.huffingtonpost.com/entry/versace-b...</td>\n",
       "      <td>former versace store clerk sues over secret 'b...</td>\n",
       "      <td>0</td>\n",
       "    </tr>\n",
       "    <tr>\n",
       "      <th>1</th>\n",
       "      <td>https://www.huffingtonpost.com/entry/roseanne-...</td>\n",
       "      <td>the 'roseanne' revival catches up to our thorn...</td>\n",
       "      <td>0</td>\n",
       "    </tr>\n",
       "    <tr>\n",
       "      <th>2</th>\n",
       "      <td>https://local.theonion.com/mom-starting-to-fea...</td>\n",
       "      <td>mom starting to fear son's web series closest ...</td>\n",
       "      <td>1</td>\n",
       "    </tr>\n",
       "    <tr>\n",
       "      <th>3</th>\n",
       "      <td>https://politics.theonion.com/boehner-just-wan...</td>\n",
       "      <td>boehner just wants wife to listen, not come up...</td>\n",
       "      <td>1</td>\n",
       "    </tr>\n",
       "    <tr>\n",
       "      <th>4</th>\n",
       "      <td>https://www.huffingtonpost.com/entry/jk-rowlin...</td>\n",
       "      <td>j.k. rowling wishes snape happy birthday in th...</td>\n",
       "      <td>0</td>\n",
       "    </tr>\n",
       "  </tbody>\n",
       "</table>\n",
       "</div>"
      ],
      "text/plain": [
       "                                        article_link  \\\n",
       "0  https://www.huffingtonpost.com/entry/versace-b...   \n",
       "1  https://www.huffingtonpost.com/entry/roseanne-...   \n",
       "2  https://local.theonion.com/mom-starting-to-fea...   \n",
       "3  https://politics.theonion.com/boehner-just-wan...   \n",
       "4  https://www.huffingtonpost.com/entry/jk-rowlin...   \n",
       "\n",
       "                                            headline  is_sarcastic  \n",
       "0  former versace store clerk sues over secret 'b...             0  \n",
       "1  the 'roseanne' revival catches up to our thorn...             0  \n",
       "2  mom starting to fear son's web series closest ...             1  \n",
       "3  boehner just wants wife to listen, not come up...             1  \n",
       "4  j.k. rowling wishes snape happy birthday in th...             0  "
      ]
     },
     "execution_count": 4,
     "metadata": {},
     "output_type": "execute_result"
    }
   ],
   "source": [
    "df.head()"
   ]
  },
  {
   "cell_type": "code",
   "execution_count": 10,
   "metadata": {},
   "outputs": [
    {
     "name": "stdout",
     "output_type": "stream",
     "text": [
      "<class 'pandas.core.frame.DataFrame'>\n",
      "RangeIndex: 26709 entries, 0 to 26708\n",
      "Data columns (total 3 columns):\n",
      " #   Column        Non-Null Count  Dtype \n",
      "---  ------        --------------  ----- \n",
      " 0   article_link  26709 non-null  object\n",
      " 1   headline      26709 non-null  object\n",
      " 2   is_sarcastic  26709 non-null  int64 \n",
      "dtypes: int64(1), object(2)\n",
      "memory usage: 626.1+ KB\n",
      "None\n",
      "\n",
      "--------------------------------\n",
      "\n",
      "       is_sarcastic\n",
      "count  26709.000000\n",
      "mean       0.438953\n",
      "std        0.496269\n",
      "min        0.000000\n",
      "25%        0.000000\n",
      "50%        0.000000\n",
      "75%        1.000000\n",
      "max        1.000000\n"
     ]
    }
   ],
   "source": [
    "# Get insights\n",
    "print(df.info())\n",
    "print(\"\\n--------------------------------\\n\")\n",
    "print(df.describe())"
   ]
  },
  {
   "cell_type": "code",
   "execution_count": 11,
   "metadata": {
    "scrolled": true
   },
   "outputs": [
    {
     "data": {
      "text/plain": [
       "0    14985\n",
       "1    11724\n",
       "Name: is_sarcastic, dtype: int64"
      ]
     },
     "execution_count": 11,
     "metadata": {},
     "output_type": "execute_result"
    }
   ],
   "source": [
    "# How many examples of each class?\n",
    "df.is_sarcastic.value_counts()"
   ]
  },
  {
   "cell_type": "markdown",
   "metadata": {},
   "source": [
    "# 2. Preprocess the data"
   ]
  },
  {
   "cell_type": "code",
   "execution_count": 5,
   "metadata": {},
   "outputs": [],
   "source": [
    "df_sentence = df[\"headline\"]\n",
    "df_label = df[\"is_sarcastic\"]"
   ]
  },
  {
   "cell_type": "code",
   "execution_count": 11,
   "metadata": {},
   "outputs": [
    {
     "data": {
      "text/plain": [
       "(24038, 2671, 24038, 2671)"
      ]
     },
     "execution_count": 11,
     "metadata": {},
     "output_type": "execute_result"
    }
   ],
   "source": [
    "# Split the data in train- and testsets\n",
    "train_sentences, val_sentences, train_labels, val_labels = train_test_split(df_sentence.to_numpy(),\n",
    "                                                                            df_label.to_numpy(),\n",
    "                                                                            test_size=0.1, \n",
    "                                                                            random_state=42)\n",
    "\n",
    "len(train_sentences), len(val_sentences), len(train_labels), len(val_labels)"
   ]
  },
  {
   "cell_type": "markdown",
   "metadata": {},
   "source": [
    "# 3. Build and train the model"
   ]
  },
  {
   "cell_type": "code",
   "execution_count": 7,
   "metadata": {
    "scrolled": true
   },
   "outputs": [
    {
     "name": "stdout",
     "output_type": "stream",
     "text": [
      "\n",
      "{'outputs': <tf.Tensor: shape=(2, 512), dtype=float32, numpy=\n",
      "array([[-0.03133018, -0.06338634, -0.01607502, ..., -0.03242778,\n",
      "        -0.04575741,  0.05370456],\n",
      "       [ 0.0508086 , -0.01652428,  0.01573781, ...,  0.00976659,\n",
      "         0.03170123,  0.01788119]], dtype=float32)>}\n"
     ]
    }
   ],
   "source": [
    "# Download the USE and run a quick test if everything is fine\n",
    "# for more acc but longer train use USE_large v.5 at: https://tfhub.dev/google/universal-sentence-encoder-large/5  \n",
    "embed = hub.load(\"https://tfhub.dev/google/universal-sentence-encoder/3\")\n",
    "embeddings = embed([\n",
    "    \"The quick brown fox jumps over the lazy dog.\",\n",
    "    \"I am a sentence for which I would like to get its embedding\"])\n",
    "\n",
    "print()\n",
    "print(embeddings)"
   ]
  },
  {
   "cell_type": "code",
   "execution_count": 12,
   "metadata": {},
   "outputs": [],
   "source": [
    "# Place the USE into an encoder_layer for later use in model\n",
    "sentence_encoder_layer = hub.KerasLayer(\"https://tfhub.dev/google/universal-sentence-encoder/3\",\n",
    "                                        input_shape=[], # shape of inputs coming to our model \n",
    "                                        dtype=tf.string, # data type of inputs coming to the USE layer\n",
    "                                        trainable=False, # keep the pretrained weights (we'll create a feature extractor)\n",
    "                                        name=\"USE\")\n"
   ]
  },
  {
   "cell_type": "code",
   "execution_count": 14,
   "metadata": {},
   "outputs": [],
   "source": [
    "# Build and compile the model\n",
    "model = tf.keras.Sequential([\n",
    "  sentence_encoder_layer, # take in sentences and then encode them into an embedding\n",
    "  tf.keras.layers.Dense(64, activation=\"relu\"),\n",
    "  tf.keras.layers.Dense(1, activation=\"sigmoid\")\n",
    "], name=\"model_USE_large_v5\")\n",
    "\n",
    "# Compile model\n",
    "model.compile(loss=\"binary_crossentropy\",\n",
    "                optimizer=tf.keras.optimizers.Adam(),\n",
    "                metrics=[\"accuracy\"])"
   ]
  },
  {
   "cell_type": "code",
   "execution_count": 157,
   "metadata": {},
   "outputs": [
    {
     "name": "stdout",
     "output_type": "stream",
     "text": [
      "Model: \"model_USE_large_v5\"\n",
      "_________________________________________________________________\n",
      "Layer (type)                 Output Shape              Param #   \n",
      "=================================================================\n",
      "USE (KerasLayer)             (None, 512)               147354880 \n",
      "_________________________________________________________________\n",
      "dense_14 (Dense)             (None, 64)                32832     \n",
      "_________________________________________________________________\n",
      "dense_15 (Dense)             (None, 1)                 65        \n",
      "=================================================================\n",
      "Total params: 147,387,777\n",
      "Trainable params: 32,897\n",
      "Non-trainable params: 147,354,880\n",
      "_________________________________________________________________\n"
     ]
    }
   ],
   "source": [
    "model.summary()"
   ]
  },
  {
   "cell_type": "code",
   "execution_count": 15,
   "metadata": {},
   "outputs": [],
   "source": [
    "# Setup callback functions to controll training\n",
    "model_checkpoint = tf.keras.callbacks.ModelCheckpoint(filepath=\"./model_checkpoint/checkpoint.ckpt\",\n",
    "                                                      save_weights_only=True, # set to False to save the entire model\n",
    "                                                      save_best_only=True, # set to True to save only the best model instead of a model every epoch \n",
    "                                                      save_freq=\"epoch\",\n",
    "                                                      verbose=1)\n",
    "\n",
    "early_stopping = tf.keras.callbacks.EarlyStopping(patience=5, \n",
    "                                                  monitor=\"val_loss\",\n",
    "                                                  verbose=1)\n",
    "\n",
    "reduce_lr = tf.keras.callbacks.ReduceLROnPlateau(monitor='val_loss', \n",
    "                                                 factor=0.2, \n",
    "                                                 patience=2, \n",
    "                                                 min_lr=0.001,\n",
    "                                                 verbose=1)\n",
    "\n",
    "callbacks=[model_checkpoint, \n",
    "           early_stopping, \n",
    "           reduce_lr]"
   ]
  },
  {
   "cell_type": "code",
   "execution_count": 16,
   "metadata": {
    "scrolled": true
   },
   "outputs": [
    {
     "name": "stdout",
     "output_type": "stream",
     "text": [
      "Epoch 1/50\n",
      "752/752 [==============================] - 15s 11ms/step - loss: 0.5393 - accuracy: 0.7393 - val_loss: 0.4363 - val_accuracy: 0.7915\n",
      "\n",
      "Epoch 00001: val_loss improved from inf to 0.43629, saving model to ./model_checkpoint/checkpoint.ckpt\n",
      "Epoch 2/50\n",
      "752/752 [==============================] - 3s 5ms/step - loss: 0.4264 - accuracy: 0.8006 - val_loss: 0.4124 - val_accuracy: 0.8019\n",
      "\n",
      "Epoch 00002: val_loss improved from 0.43629 to 0.41243, saving model to ./model_checkpoint/checkpoint.ckpt\n",
      "Epoch 3/50\n",
      "752/752 [==============================] - 4s 5ms/step - loss: 0.4029 - accuracy: 0.8133 - val_loss: 0.4003 - val_accuracy: 0.8151\n",
      "\n",
      "Epoch 00003: val_loss improved from 0.41243 to 0.40035, saving model to ./model_checkpoint/checkpoint.ckpt\n",
      "Epoch 4/50\n",
      "752/752 [==============================] - 4s 5ms/step - loss: 0.3881 - accuracy: 0.8215 - val_loss: 0.3890 - val_accuracy: 0.8188\n",
      "\n",
      "Epoch 00004: val_loss improved from 0.40035 to 0.38900, saving model to ./model_checkpoint/checkpoint.ckpt\n",
      "Epoch 5/50\n",
      "752/752 [==============================] - 4s 6ms/step - loss: 0.3667 - accuracy: 0.8347 - val_loss: 0.3776 - val_accuracy: 0.8222\n",
      "\n",
      "Epoch 00005: val_loss improved from 0.38900 to 0.37764, saving model to ./model_checkpoint/checkpoint.ckpt\n",
      "Epoch 6/50\n",
      "752/752 [==============================] - 4s 6ms/step - loss: 0.3435 - accuracy: 0.8497 - val_loss: 0.3706 - val_accuracy: 0.8308\n",
      "\n",
      "Epoch 00006: val_loss improved from 0.37764 to 0.37064, saving model to ./model_checkpoint/checkpoint.ckpt\n",
      "Epoch 7/50\n",
      "752/752 [==============================] - 4s 5ms/step - loss: 0.3313 - accuracy: 0.8555 - val_loss: 0.3639 - val_accuracy: 0.8341\n",
      "\n",
      "Epoch 00007: val_loss improved from 0.37064 to 0.36395, saving model to ./model_checkpoint/checkpoint.ckpt\n",
      "Epoch 8/50\n",
      "752/752 [==============================] - 4s 5ms/step - loss: 0.3199 - accuracy: 0.8638 - val_loss: 0.3586 - val_accuracy: 0.8326\n",
      "\n",
      "Epoch 00008: val_loss improved from 0.36395 to 0.35860, saving model to ./model_checkpoint/checkpoint.ckpt\n",
      "Epoch 9/50\n",
      "752/752 [==============================] - 4s 5ms/step - loss: 0.2974 - accuracy: 0.8746 - val_loss: 0.3573 - val_accuracy: 0.8398\n",
      "\n",
      "Epoch 00009: val_loss improved from 0.35860 to 0.35727, saving model to ./model_checkpoint/checkpoint.ckpt\n",
      "Epoch 10/50\n",
      "752/752 [==============================] - 4s 5ms/step - loss: 0.2860 - accuracy: 0.8822 - val_loss: 0.3580 - val_accuracy: 0.8386\n",
      "\n",
      "Epoch 00010: val_loss did not improve from 0.35727\n",
      "Epoch 11/50\n",
      "752/752 [==============================] - 4s 5ms/step - loss: 0.2751 - accuracy: 0.8868 - val_loss: 0.3564 - val_accuracy: 0.8424\n",
      "\n",
      "Epoch 00011: val_loss improved from 0.35727 to 0.35642, saving model to ./model_checkpoint/checkpoint.ckpt\n",
      "Epoch 12/50\n",
      "752/752 [==============================] - 4s 5ms/step - loss: 0.2668 - accuracy: 0.8879 - val_loss: 0.3557 - val_accuracy: 0.8390\n",
      "\n",
      "Epoch 00012: val_loss improved from 0.35642 to 0.35572, saving model to ./model_checkpoint/checkpoint.ckpt\n",
      "Epoch 13/50\n",
      "752/752 [==============================] - 4s 5ms/step - loss: 0.2557 - accuracy: 0.8948 - val_loss: 0.3574 - val_accuracy: 0.8424\n",
      "\n",
      "Epoch 00013: val_loss did not improve from 0.35572\n",
      "Epoch 14/50\n",
      "752/752 [==============================] - 4s 5ms/step - loss: 0.2379 - accuracy: 0.9064 - val_loss: 0.3619 - val_accuracy: 0.8409\n",
      "\n",
      "Epoch 00014: val_loss did not improve from 0.35572\n",
      "\n",
      "Epoch 00014: ReduceLROnPlateau reducing learning rate to 0.001.\n",
      "Epoch 15/50\n",
      "752/752 [==============================] - 4s 5ms/step - loss: 0.2261 - accuracy: 0.9105 - val_loss: 0.3619 - val_accuracy: 0.8356\n",
      "\n",
      "Epoch 00015: val_loss did not improve from 0.35572\n",
      "Epoch 16/50\n",
      "752/752 [==============================] - 4s 5ms/step - loss: 0.2156 - accuracy: 0.9181 - val_loss: 0.3608 - val_accuracy: 0.8368\n",
      "\n",
      "Epoch 00016: val_loss did not improve from 0.35572\n",
      "\n",
      "Epoch 00016: ReduceLROnPlateau reducing learning rate to 0.001.\n",
      "Epoch 17/50\n",
      "752/752 [==============================] - 4s 5ms/step - loss: 0.2120 - accuracy: 0.9181 - val_loss: 0.3734 - val_accuracy: 0.8341\n",
      "\n",
      "Epoch 00017: val_loss did not improve from 0.35572\n",
      "Epoch 00017: early stopping\n"
     ]
    }
   ],
   "source": [
    "# Train a classifier on top of pretrained embeddings\n",
    "\n",
    "history_model = model.fit(train_sentences,\n",
    "                              train_labels,\n",
    "                              epochs=50,\n",
    "                              validation_data=(val_sentences, val_labels),\n",
    "                              callbacks=callbacks)"
   ]
  },
  {
   "cell_type": "markdown",
   "metadata": {},
   "source": [
    "# 4. Evaluate the model"
   ]
  },
  {
   "cell_type": "code",
   "execution_count": 17,
   "metadata": {},
   "outputs": [
    {
     "name": "stdout",
     "output_type": "stream",
     "text": [
      "84/84 [==============================] - 0s 4ms/step - loss: 0.3557 - accuracy: 0.8390\n"
     ]
    }
   ],
   "source": [
    "# Load best weights\n",
    "model.load_weights('./model_checkpoint/checkpoint.ckpt')\n",
    "eval_model = model.evaluate(val_sentences, val_labels)"
   ]
  },
  {
   "cell_type": "code",
   "execution_count": 18,
   "metadata": {},
   "outputs": [
    {
     "data": {
      "image/png": "[encoded data removed]",
      "text/plain": [
       "<Figure size 432x288 with 1 Axes>"
      ]
     },
     "metadata": {
      "needs_background": "light"
     },
     "output_type": "display_data"
    },
    {
     "data": {
      "image/png": "[encoded data removed]",
      "text/plain": [
       "<Figure size 432x288 with 1 Axes>"
      ]
     },
     "metadata": {
      "needs_background": "light"
     },
     "output_type": "display_data"
    }
   ],
   "source": [
    "import matplotlib.pyplot as plt\n",
    "\n",
    "def plot_loss_curves(history):\n",
    "    loss = history.history['loss']\n",
    "    val_loss = history.history['val_loss']\n",
    "\n",
    "    accuracy = history.history['accuracy']\n",
    "    val_accuracy = history.history['val_accuracy']\n",
    "\n",
    "    epochs = range(len(history.history['loss']))\n",
    "\n",
    "    # Plot loss\n",
    "    plt.plot(epochs, loss, label='training_loss')\n",
    "    plt.plot(epochs, val_loss, label='val_loss')\n",
    "    plt.title('Loss')\n",
    "    plt.xlabel('Epochs')\n",
    "    plt.legend()\n",
    "\n",
    "    # Plot accuracy\n",
    "    plt.figure()\n",
    "    plt.plot(epochs, accuracy, label='training_accuracy')\n",
    "    plt.plot(epochs, val_accuracy, label='val_accuracy')\n",
    "    plt.title('Accuracy')\n",
    "    plt.xlabel('Epochs')\n",
    "    plt.legend();\n",
    "    \n",
    "plot_loss_curves(history_model)"
   ]
  },
  {
   "cell_type": "markdown",
   "metadata": {},
   "source": [
    "# 5. Make some predictions and evaluate again"
   ]
  },
  {
   "cell_type": "code",
   "execution_count": 19,
   "metadata": {},
   "outputs": [
    {
     "data": {
      "text/plain": [
       "array([[0.99552184],\n",
       "       [0.1519638 ],\n",
       "       [0.00735226],\n",
       "       [0.4479965 ],\n",
       "       [0.25601995],\n",
       "       [0.97636414],\n",
       "       [0.61522937],\n",
       "       [0.47878912],\n",
       "       [0.0703454 ],\n",
       "       [0.10818273]], dtype=float32)"
      ]
     },
     "execution_count": 19,
     "metadata": {},
     "output_type": "execute_result"
    }
   ],
   "source": [
    "# Make predictions with USE TF Hub model\n",
    "model_pred_probs = model.predict(val_sentences)\n",
    "model_pred_probs[:10]"
   ]
  },
  {
   "cell_type": "code",
   "execution_count": 20,
   "metadata": {},
   "outputs": [
    {
     "data": {
      "text/plain": [
       "<tf.Tensor: shape=(10,), dtype=float32, numpy=array([1., 0., 0., 0., 0., 1., 1., 0., 0., 0.], dtype=float32)>"
      ]
     },
     "execution_count": 20,
     "metadata": {},
     "output_type": "execute_result"
    }
   ],
   "source": [
    "# Convert prediction probabilities to labels\n",
    "model_preds = tf.squeeze(tf.round(model_pred_probs))\n",
    "model_preds[:10]"
   ]
  },
  {
   "cell_type": "code",
   "execution_count": 21,
   "metadata": {},
   "outputs": [
    {
     "data": {
      "text/plain": [
       "{'accuracy': 83.9012,\n",
       " 'precision': 0.8388,\n",
       " 'recall': 0.839,\n",
       " 'f1': 0.8388399186219105}"
      ]
     },
     "execution_count": 21,
     "metadata": {},
     "output_type": "execute_result"
    }
   ],
   "source": [
    "from sklearn.metrics import accuracy_score, precision_recall_fscore_support\n",
    "def calculate_results(y_true, y_pred):\n",
    "    # Calculate model accuracy\n",
    "    model_accuracy = accuracy_score(y_true, y_pred) * 100\n",
    "    # Calculate model precision, recall and f1 score using \"weighted\" average\n",
    "    model_precision, model_recall, model_f1, _ = precision_recall_fscore_support(y_true, y_pred, average=\"weighted\")\n",
    "    model_results = {\"accuracy\": round(model_accuracy, 4),\n",
    "                  \"precision\": round(model_precision, 4),\n",
    "                  \"recall\": round(model_recall, 4),\n",
    "                  \"f1\": model_f1}\n",
    "    return model_results\n",
    "\n",
    "calculate_results(val_labels,\n",
    "                  model_preds)"
   ]
  },
  {
   "cell_type": "code",
   "execution_count": null,
   "metadata": {},
   "outputs": [],
   "source": []
  }
 ],
 "metadata": {
  "interpreter": {
   "hash": "aee8b7b246df8f9039afb4144a1f6fd8d2ca17a180786b69acc140d282b71a49"
  },
  "kernelspec": {
   "display_name": "Python 3",
   "language": "python",
   "name": "python3"
  },
  "language_info": {
   "codemirror_mode": {
    "name": "ipython",
    "version": 3
   },
   "file_extension": ".py",
   "mimetype": "text/x-python",
   "name": "python",
   "nbconvert_exporter": "python",
   "pygments_lexer": "ipython3",
   "version": "3.7.6"
  }
 },
 "nbformat": 4,
 "nbformat_minor": 4
}
